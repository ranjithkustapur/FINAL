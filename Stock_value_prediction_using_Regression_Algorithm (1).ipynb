{
  "cells": [
    {
      "cell_type": "code",
      "execution_count": 2,
      "metadata": {
        "id": "4C3iYCkDpUOu"
      },
      "outputs": [],
      "source": [
        "import csv\n",
        "import numpy\n",
        "import pandas as pd;\n",
        "import warnings\n",
        "warnings.filterwarnings(\"ignore\")"
      ]
    },
    {
      "cell_type": "code",
      "execution_count": 3,
      "metadata": {
        "colab": {
          "base_uri": "https://localhost:8080/"
        },
        "id": "XEzvNRFkpUOw",
        "outputId": "7db77c4e-e4da-4ab7-84d5-8d926e9b889e"
      },
      "outputs": [
        {
          "output_type": "execute_result",
          "data": {
            "text/plain": [
              "date      0\n",
              "symbol    0\n",
              "open      0\n",
              "close     0\n",
              "low       0\n",
              "high      0\n",
              "volume    0\n",
              "dtype: int64"
            ]
          },
          "metadata": {},
          "execution_count": 3
        }
      ],
      "source": [
        "df = pd.read_csv(r'prices-split-adjusted.csv')\n",
        "df.apply(lambda x: sum(x.isnull()), axis=0)   # Checking for null values"
      ]
    },
    {
      "cell_type": "code",
      "execution_count": 4,
      "metadata": {
        "colab": {
          "base_uri": "https://localhost:8080/"
        },
        "id": "aUkfyjBjpUOx",
        "outputId": "b798300c-916c-4293-f0ba-04faf3f6a8ea"
      },
      "outputs": [
        {
          "name": "stdout",
          "output_type": "stream",
          "text": [
            "Enter symbol of share?EA\n"
          ]
        }
      ],
      "source": [
        "symbol = df.symbol.unique()\n",
        "execute = True\n",
        "while execute:\n",
        "    sym = input('Enter symbol of share?')         #Input stock name from user\n",
        "    if sym in symbol:\n",
        "        execute = False\n",
        "    else:\n",
        "        print(\"Enter a valid share symbol\") "
      ]
    },
    {
      "cell_type": "code",
      "execution_count": 5,
      "metadata": {
        "colab": {
          "base_uri": "https://localhost:8080/",
          "height": 447
        },
        "id": "M5wN1pxUpUOx",
        "outputId": "713f7322-c9d1-4cce-94d0-3b6c0f2b807e"
      },
      "outputs": [
        {
          "output_type": "execute_result",
          "data": {
            "text/plain": [
              "[<matplotlib.lines.Line2D at 0x7f573267e610>]"
            ]
          },
          "metadata": {},
          "execution_count": 5
        },
        {
          "output_type": "display_data",
          "data": {
            "text/plain": [
              "<Figure size 640x480 with 1 Axes>"
            ],
            "image/png": "[encoded data removed]"
          },
          "metadata": {}
        }
      ],
      "source": [
        "import matplotlib.pyplot as plt\n",
        "%matplotlib inline\n",
        "df1 = df[df.symbol.apply(lambda x:x==sym)] # Retrieving data of that particular share\n",
        "plt.plot(df1.index,df1.close)"
      ]
    },
    {
      "cell_type": "code",
      "execution_count": 6,
      "metadata": {
        "colab": {
          "base_uri": "https://localhost:8080/",
          "height": 206
        },
        "id": "Mgaeepq7pUOx",
        "outputId": "24618815-4c05-4284-dc08-02bc1cffc3df"
      },
      "outputs": [
        {
          "output_type": "execute_result",
          "data": {
            "text/plain": [
              "           open      close        low       high     volume\n",
              "388   17.990000  18.150000  17.889999  18.240000  3850500.0\n",
              "856   18.309999  18.660000  18.230000  18.870001  6632500.0\n",
              "1324  18.610001  18.180000  18.059999  18.650000  5047300.0\n",
              "1792  17.910000  18.040001  17.780001  18.070000  5433200.0\n",
              "2260  18.180000  18.400000  18.030001  18.450001  4055600.0"
            ],
            "text/html": [
              "\n",
              "  <div id=\"df-8c8df2e5-0528-4403-b6e5-f1e29c43eaa4\">\n",
              "    <div class=\"colab-df-container\">\n",
              "      <div>\n",
              "<style scoped>\n",
              "    .dataframe tbody tr th:only-of-type {\n",
              "        vertical-align: middle;\n",
              "    }\n",
              "\n",
              "    .dataframe tbody tr th {\n",
              "        vertical-align: top;\n",
              "    }\n",
              "\n",
              "    .dataframe thead th {\n",
              "        text-align: right;\n",
              "    }\n",
              "</style>\n",
              "<table border=\"1\" class=\"dataframe\">\n",
              "  <thead>\n",
              "    <tr style=\"text-align: right;\">\n",
              "      <th></th>\n",
              "      <th>open</th>\n",
              "      <th>close</th>\n",
              "      <th>low</th>\n",
              "      <th>high</th>\n",
              "      <th>volume</th>\n",
              "    </tr>\n",
              "  </thead>\n",
              "  <tbody>\n",
              "    <tr>\n",
              "      <th>388</th>\n",
              "      <td>17.990000</td>\n",
              "      <td>18.150000</td>\n",
              "      <td>17.889999</td>\n",
              "      <td>18.240000</td>\n",
              "      <td>3850500.0</td>\n",
              "    </tr>\n",
              "    <tr>\n",
              "      <th>856</th>\n",
              "      <td>18.309999</td>\n",
              "      <td>18.660000</td>\n",
              "      <td>18.230000</td>\n",
              "      <td>18.870001</td>\n",
              "      <td>6632500.0</td>\n",
              "    </tr>\n",
              "    <tr>\n",
              "      <th>1324</th>\n",
              "      <td>18.610001</td>\n",
              "      <td>18.180000</td>\n",
              "      <td>18.059999</td>\n",
              "      <td>18.650000</td>\n",
              "      <td>5047300.0</td>\n",
              "    </tr>\n",
              "    <tr>\n",
              "      <th>1792</th>\n",
              "      <td>17.910000</td>\n",
              "      <td>18.040001</td>\n",
              "      <td>17.780001</td>\n",
              "      <td>18.070000</td>\n",
              "      <td>5433200.0</td>\n",
              "    </tr>\n",
              "    <tr>\n",
              "      <th>2260</th>\n",
              "      <td>18.180000</td>\n",
              "      <td>18.400000</td>\n",
              "      <td>18.030001</td>\n",
              "      <td>18.450001</td>\n",
              "      <td>4055600.0</td>\n",
              "    </tr>\n",
              "  </tbody>\n",
              "</table>\n",
              "</div>\n",
              "      <button class=\"colab-df-convert\" onclick=\"convertToInteractive('df-8c8df2e5-0528-4403-b6e5-f1e29c43eaa4')\"\n",
              "              title=\"Convert this dataframe to an interactive table.\"\n",
              "              style=\"display:none;\">\n",
              "        \n",
              "  <svg xmlns=\"http://www.w3.org/2000/svg\" height=\"24px\"viewBox=\"0 0 24 24\"\n",
              "       width=\"24px\">\n",
              "    <path d=\"M0 0h24v24H0V0z\" fill=\"none\"/>\n",
              "    <path d=\"M18.56 5.44l.94 2.06.94-2.06 2.06-.94-2.06-.94-.94-2.06-.94 2.06-2.06.94zm-11 1L8.5 8.5l.94-2.06 2.06-.94-2.06-.94L8.5 2.5l-.94 2.06-2.06.94zm10 10l.94 2.06.94-2.06 2.06-.94-2.06-.94-.94-2.06-.94 2.06-2.06.94z\"/><path d=\"M17.41 7.96l-1.37-1.37c-.4-.4-.92-.59-1.43-.59-.52 0-1.04.2-1.43.59L10.3 9.45l-7.72 7.72c-.78.78-.78 2.05 0 2.83L4 21.41c.39.39.9.59 1.41.59.51 0 1.02-.2 1.41-.59l7.78-7.78 2.81-2.81c.8-.78.8-2.07 0-2.86zM5.41 20L4 18.59l7.72-7.72 1.47 1.35L5.41 20z\"/>\n",
              "  </svg>\n",
              "      </button>\n",
              "      \n",
              "  <style>\n",
              "    .colab-df-container {\n",
              "      display:flex;\n",
              "      flex-wrap:wrap;\n",
              "      gap: 12px;\n",
              "    }\n",
              "\n",
              "    .colab-df-convert {\n",
              "      background-color: #E8F0FE;\n",
              "      border: none;\n",
              "      border-radius: 50%;\n",
              "      cursor: pointer;\n",
              "      display: none;\n",
              "      fill: #1967D2;\n",
              "      height: 32px;\n",
              "      padding: 0 0 0 0;\n",
              "      width: 32px;\n",
              "    }\n",
              "\n",
              "    .colab-df-convert:hover {\n",
              "      background-color: #E2EBFA;\n",
              "      box-shadow: 0px 1px 2px rgba(60, 64, 67, 0.3), 0px 1px 3px 1px rgba(60, 64, 67, 0.15);\n",
              "      fill: #174EA6;\n",
              "    }\n",
              "\n",
              "    [theme=dark] .colab-df-convert {\n",
              "      background-color: #3B4455;\n",
              "      fill: #D2E3FC;\n",
              "    }\n",
              "\n",
              "    [theme=dark] .colab-df-convert:hover {\n",
              "      background-color: #434B5C;\n",
              "      box-shadow: 0px 1px 3px 1px rgba(0, 0, 0, 0.15);\n",
              "      filter: drop-shadow(0px 1px 2px rgba(0, 0, 0, 0.3));\n",
              "      fill: #FFFFFF;\n",
              "    }\n",
              "  </style>\n",
              "\n",
              "      <script>\n",
              "        const buttonEl =\n",
              "          document.querySelector('#df-8c8df2e5-0528-4403-b6e5-f1e29c43eaa4 button.colab-df-convert');\n",
              "        buttonEl.style.display =\n",
              "          google.colab.kernel.accessAllowed ? 'block' : 'none';\n",
              "\n",
              "        async function convertToInteractive(key) {\n",
              "          const element = document.querySelector('#df-8c8df2e5-0528-4403-b6e5-f1e29c43eaa4');\n",
              "          const dataTable =\n",
              "            await google.colab.kernel.invokeFunction('convertToInteractive',\n",
              "                                                     [key], {});\n",
              "          if (!dataTable) return;\n",
              "\n",
              "          const docLinkHtml = 'Like what you see? Visit the ' +\n",
              "            '<a target=\"_blank\" href=https://colab.research.google.com/notebooks/data_table.ipynb>data table notebook</a>'\n",
              "            + ' to learn more about interactive tables.';\n",
              "          element.innerHTML = '';\n",
              "          dataTable['output_type'] = 'display_data';\n",
              "          await google.colab.output.renderOutput(dataTable, element);\n",
              "          const docLink = document.createElement('div');\n",
              "          docLink.innerHTML = docLinkHtml;\n",
              "          element.appendChild(docLink);\n",
              "        }\n",
              "      </script>\n",
              "    </div>\n",
              "  </div>\n",
              "  "
            ]
          },
          "metadata": {},
          "execution_count": 6
        }
      ],
      "source": [
        "df2 = df1.loc[:,'open':] # Considering important columns\n",
        "df2.head()"
      ]
    },
    {
      "cell_type": "code",
      "execution_count": 7,
      "metadata": {
        "colab": {
          "base_uri": "https://localhost:8080/"
        },
        "id": "5w-Gc-klpUOy",
        "outputId": "683aa560-b29c-4aff-c9f3-fb9d095aea0f"
      },
      "outputs": [
        {
          "output_type": "execute_result",
          "data": {
            "text/plain": [
              "(1739, 110)"
            ]
          },
          "metadata": {},
          "execution_count": 7
        }
      ],
      "source": [
        "days = 22                            # Creating features based on last 22 days of data\n",
        "df3 = pd.DataFrame()\n",
        "rows = df2.shape[0]\n",
        "for i in range(1,rows-days):\n",
        "    s = pd.Series()\n",
        "    for j in range(i,i+days):\n",
        "        s = s.append(df2.iloc[j,:])\n",
        "    df4 = pd.DataFrame(s)\n",
        "    df3 = df3.append(df4.transpose())\n",
        "df3.head() \n",
        "df3 = df3.reset_index(drop=True)\n",
        "df3.shape"
      ]
    },
    {
      "cell_type": "code",
      "execution_count": 8,
      "metadata": {
        "scrolled": true,
        "colab": {
          "base_uri": "https://localhost:8080/"
        },
        "id": "jEKI8nExpUOy",
        "outputId": "a25a1f7a-d078-4f6f-f60d-32b6c989ae56"
      },
      "outputs": [
        {
          "output_type": "execute_result",
          "data": {
            "text/plain": [
              "0    17.260000\n",
              "1    17.490000\n",
              "2    15.960000\n",
              "3    15.940000\n",
              "4    16.120001\n",
              "Name: close, dtype: float64"
            ]
          },
          "metadata": {},
          "execution_count": 8
        }
      ],
      "source": [
        "y = pd.DataFrame()\n",
        "y = df2.close[days+1:]\n",
        "y = y.transpose()\n",
        "y = y.reset_index(drop=True)\n",
        "y.head()   "
      ]
    },
    {
      "cell_type": "code",
      "execution_count": 9,
      "metadata": {
        "colab": {
          "base_uri": "https://localhost:8080/",
          "height": 299
        },
        "id": "aY9yq6J-pUOy",
        "outputId": "9c924316-aed4-4114-af8b-dba738652063"
      },
      "outputs": [
        {
          "output_type": "execute_result",
          "data": {
            "text/plain": [
              "        open      close        low       high     volume       open  \\\n",
              "0  18.309999  18.660000  18.230000  18.870001  6632500.0  18.610001   \n",
              "1  18.610001  18.180000  18.059999  18.650000  5047300.0  17.910000   \n",
              "2  17.910000  18.040001  17.780001  18.070000  5433200.0  18.180000   \n",
              "3  18.180000  18.400000  18.030001  18.450001  4055600.0  18.469999   \n",
              "4  18.469999  18.270000  18.129999  18.700001  6142400.0  16.740000   \n",
              "\n",
              "       close        low       high      volume  ...       open  close  \\\n",
              "0  18.180000  18.059999  18.650000   5047300.0  ...  16.920000  17.27   \n",
              "1  18.040001  17.780001  18.070000   5433200.0  ...  17.180000  16.98   \n",
              "2  18.400000  18.030001  18.450001   4055600.0  ...  16.850000  17.26   \n",
              "3  18.270000  18.129999  18.700001   6142400.0  ...  17.379999  17.49   \n",
              "4  16.850000  16.559999  17.139999  31920900.0  ...  16.040001  15.96   \n",
              "\n",
              "         low       high      volume       open  close    low       high  \\\n",
              "0  16.790001  17.320000   6417200.0  17.180000  16.98  16.82  17.180000   \n",
              "1  16.820000  17.180000   7194600.0  16.850000  17.26  16.83  17.330000   \n",
              "2  16.830000  17.330000  10278500.0  17.379999  17.49  17.01  17.860001   \n",
              "3  17.010000  17.860001  16170700.0  16.040001  15.96  15.70  16.280001   \n",
              "4  15.700000  16.280001  47398100.0  16.040001  15.94  15.75  16.120001   \n",
              "\n",
              "       volume  \n",
              "0   7194600.0  \n",
              "1  10278500.0  \n",
              "2  16170700.0  \n",
              "3  47398100.0  \n",
              "4  13675500.0  \n",
              "\n",
              "[5 rows x 110 columns]"
            ],
            "text/html": [
              "\n",
              "  <div id=\"df-369a8a40-d2f5-4223-9103-53a7cc7a964a\">\n",
              "    <div class=\"colab-df-container\">\n",
              "      <div>\n",
              "<style scoped>\n",
              "    .dataframe tbody tr th:only-of-type {\n",
              "        vertical-align: middle;\n",
              "    }\n",
              "\n",
              "    .dataframe tbody tr th {\n",
              "        vertical-align: top;\n",
              "    }\n",
              "\n",
              "    .dataframe thead th {\n",
              "        text-align: right;\n",
              "    }\n",
              "</style>\n",
              "<table border=\"1\" class=\"dataframe\">\n",
              "  <thead>\n",
              "    <tr style=\"text-align: right;\">\n",
              "      <th></th>\n",
              "      <th>open</th>\n",
              "      <th>close</th>\n",
              "      <th>low</th>\n",
              "      <th>high</th>\n",
              "      <th>volume</th>\n",
              "      <th>open</th>\n",
              "      <th>close</th>\n",
              "      <th>low</th>\n",
              "      <th>high</th>\n",
              "      <th>volume</th>\n",
              "      <th>...</th>\n",
              "      <th>open</th>\n",
              "      <th>close</th>\n",
              "      <th>low</th>\n",
              "      <th>high</th>\n",
              "      <th>volume</th>\n",
              "      <th>open</th>\n",
              "      <th>close</th>\n",
              "      <th>low</th>\n",
              "      <th>high</th>\n",
              "      <th>volume</th>\n",
              "    </tr>\n",
              "  </thead>\n",
              "  <tbody>\n",
              "    <tr>\n",
              "      <th>0</th>\n",
              "      <td>18.309999</td>\n",
              "      <td>18.660000</td>\n",
              "      <td>18.230000</td>\n",
              "      <td>18.870001</td>\n",
              "      <td>6632500.0</td>\n",
              "      <td>18.610001</td>\n",
              "      <td>18.180000</td>\n",
              "      <td>18.059999</td>\n",
              "      <td>18.650000</td>\n",
              "      <td>5047300.0</td>\n",
              "      <td>...</td>\n",
              "      <td>16.920000</td>\n",
              "      <td>17.27</td>\n",
              "      <td>16.790001</td>\n",
              "      <td>17.320000</td>\n",
              "      <td>6417200.0</td>\n",
              "      <td>17.180000</td>\n",
              "      <td>16.98</td>\n",
              "      <td>16.82</td>\n",
              "      <td>17.180000</td>\n",
              "      <td>7194600.0</td>\n",
              "    </tr>\n",
              "    <tr>\n",
              "      <th>1</th>\n",
              "      <td>18.610001</td>\n",
              "      <td>18.180000</td>\n",
              "      <td>18.059999</td>\n",
              "      <td>18.650000</td>\n",
              "      <td>5047300.0</td>\n",
              "      <td>17.910000</td>\n",
              "      <td>18.040001</td>\n",
              "      <td>17.780001</td>\n",
              "      <td>18.070000</td>\n",
              "      <td>5433200.0</td>\n",
              "      <td>...</td>\n",
              "      <td>17.180000</td>\n",
              "      <td>16.98</td>\n",
              "      <td>16.820000</td>\n",
              "      <td>17.180000</td>\n",
              "      <td>7194600.0</td>\n",
              "      <td>16.850000</td>\n",
              "      <td>17.26</td>\n",
              "      <td>16.83</td>\n",
              "      <td>17.330000</td>\n",
              "      <td>10278500.0</td>\n",
              "    </tr>\n",
              "    <tr>\n",
              "      <th>2</th>\n",
              "      <td>17.910000</td>\n",
              "      <td>18.040001</td>\n",
              "      <td>17.780001</td>\n",
              "      <td>18.070000</td>\n",
              "      <td>5433200.0</td>\n",
              "      <td>18.180000</td>\n",
              "      <td>18.400000</td>\n",
              "      <td>18.030001</td>\n",
              "      <td>18.450001</td>\n",
              "      <td>4055600.0</td>\n",
              "      <td>...</td>\n",
              "      <td>16.850000</td>\n",
              "      <td>17.26</td>\n",
              "      <td>16.830000</td>\n",
              "      <td>17.330000</td>\n",
              "      <td>10278500.0</td>\n",
              "      <td>17.379999</td>\n",
              "      <td>17.49</td>\n",
              "      <td>17.01</td>\n",
              "      <td>17.860001</td>\n",
              "      <td>16170700.0</td>\n",
              "    </tr>\n",
              "    <tr>\n",
              "      <th>3</th>\n",
              "      <td>18.180000</td>\n",
              "      <td>18.400000</td>\n",
              "      <td>18.030001</td>\n",
              "      <td>18.450001</td>\n",
              "      <td>4055600.0</td>\n",
              "      <td>18.469999</td>\n",
              "      <td>18.270000</td>\n",
              "      <td>18.129999</td>\n",
              "      <td>18.700001</td>\n",
              "      <td>6142400.0</td>\n",
              "      <td>...</td>\n",
              "      <td>17.379999</td>\n",
              "      <td>17.49</td>\n",
              "      <td>17.010000</td>\n",
              "      <td>17.860001</td>\n",
              "      <td>16170700.0</td>\n",
              "      <td>16.040001</td>\n",
              "      <td>15.96</td>\n",
              "      <td>15.70</td>\n",
              "      <td>16.280001</td>\n",
              "      <td>47398100.0</td>\n",
              "    </tr>\n",
              "    <tr>\n",
              "      <th>4</th>\n",
              "      <td>18.469999</td>\n",
              "      <td>18.270000</td>\n",
              "      <td>18.129999</td>\n",
              "      <td>18.700001</td>\n",
              "      <td>6142400.0</td>\n",
              "      <td>16.740000</td>\n",
              "      <td>16.850000</td>\n",
              "      <td>16.559999</td>\n",
              "      <td>17.139999</td>\n",
              "      <td>31920900.0</td>\n",
              "      <td>...</td>\n",
              "      <td>16.040001</td>\n",
              "      <td>15.96</td>\n",
              "      <td>15.700000</td>\n",
              "      <td>16.280001</td>\n",
              "      <td>47398100.0</td>\n",
              "      <td>16.040001</td>\n",
              "      <td>15.94</td>\n",
              "      <td>15.75</td>\n",
              "      <td>16.120001</td>\n",
              "      <td>13675500.0</td>\n",
              "    </tr>\n",
              "  </tbody>\n",
              "</table>\n",
              "<p>5 rows × 110 columns</p>\n",
              "</div>\n",
              "      <button class=\"colab-df-convert\" onclick=\"convertToInteractive('df-369a8a40-d2f5-4223-9103-53a7cc7a964a')\"\n",
              "              title=\"Convert this dataframe to an interactive table.\"\n",
              "              style=\"display:none;\">\n",
              "        \n",
              "  <svg xmlns=\"http://www.w3.org/2000/svg\" height=\"24px\"viewBox=\"0 0 24 24\"\n",
              "       width=\"24px\">\n",
              "    <path d=\"M0 0h24v24H0V0z\" fill=\"none\"/>\n",
              "    <path d=\"M18.56 5.44l.94 2.06.94-2.06 2.06-.94-2.06-.94-.94-2.06-.94 2.06-2.06.94zm-11 1L8.5 8.5l.94-2.06 2.06-.94-2.06-.94L8.5 2.5l-.94 2.06-2.06.94zm10 10l.94 2.06.94-2.06 2.06-.94-2.06-.94-.94-2.06-.94 2.06-2.06.94z\"/><path d=\"M17.41 7.96l-1.37-1.37c-.4-.4-.92-.59-1.43-.59-.52 0-1.04.2-1.43.59L10.3 9.45l-7.72 7.72c-.78.78-.78 2.05 0 2.83L4 21.41c.39.39.9.59 1.41.59.51 0 1.02-.2 1.41-.59l7.78-7.78 2.81-2.81c.8-.78.8-2.07 0-2.86zM5.41 20L4 18.59l7.72-7.72 1.47 1.35L5.41 20z\"/>\n",
              "  </svg>\n",
              "      </button>\n",
              "      \n",
              "  <style>\n",
              "    .colab-df-container {\n",
              "      display:flex;\n",
              "      flex-wrap:wrap;\n",
              "      gap: 12px;\n",
              "    }\n",
              "\n",
              "    .colab-df-convert {\n",
              "      background-color: #E8F0FE;\n",
              "      border: none;\n",
              "      border-radius: 50%;\n",
              "      cursor: pointer;\n",
              "      display: none;\n",
              "      fill: #1967D2;\n",
              "      height: 32px;\n",
              "      padding: 0 0 0 0;\n",
              "      width: 32px;\n",
              "    }\n",
              "\n",
              "    .colab-df-convert:hover {\n",
              "      background-color: #E2EBFA;\n",
              "      box-shadow: 0px 1px 2px rgba(60, 64, 67, 0.3), 0px 1px 3px 1px rgba(60, 64, 67, 0.15);\n",
              "      fill: #174EA6;\n",
              "    }\n",
              "\n",
              "    [theme=dark] .colab-df-convert {\n",
              "      background-color: #3B4455;\n",
              "      fill: #D2E3FC;\n",
              "    }\n",
              "\n",
              "    [theme=dark] .colab-df-convert:hover {\n",
              "      background-color: #434B5C;\n",
              "      box-shadow: 0px 1px 3px 1px rgba(0, 0, 0, 0.15);\n",
              "      filter: drop-shadow(0px 1px 2px rgba(0, 0, 0, 0.3));\n",
              "      fill: #FFFFFF;\n",
              "    }\n",
              "  </style>\n",
              "\n",
              "      <script>\n",
              "        const buttonEl =\n",
              "          document.querySelector('#df-369a8a40-d2f5-4223-9103-53a7cc7a964a button.colab-df-convert');\n",
              "        buttonEl.style.display =\n",
              "          google.colab.kernel.accessAllowed ? 'block' : 'none';\n",
              "\n",
              "        async function convertToInteractive(key) {\n",
              "          const element = document.querySelector('#df-369a8a40-d2f5-4223-9103-53a7cc7a964a');\n",
              "          const dataTable =\n",
              "            await google.colab.kernel.invokeFunction('convertToInteractive',\n",
              "                                                     [key], {});\n",
              "          if (!dataTable) return;\n",
              "\n",
              "          const docLinkHtml = 'Like what you see? Visit the ' +\n",
              "            '<a target=\"_blank\" href=https://colab.research.google.com/notebooks/data_table.ipynb>data table notebook</a>'\n",
              "            + ' to learn more about interactive tables.';\n",
              "          element.innerHTML = '';\n",
              "          dataTable['output_type'] = 'display_data';\n",
              "          await google.colab.output.renderOutput(dataTable, element);\n",
              "          const docLink = document.createElement('div');\n",
              "          docLink.innerHTML = docLinkHtml;\n",
              "          element.appendChild(docLink);\n",
              "        }\n",
              "      </script>\n",
              "    </div>\n",
              "  </div>\n",
              "  "
            ]
          },
          "metadata": {},
          "execution_count": 9
        }
      ],
      "source": [
        "from sklearn import datasets, linear_model\n",
        "from sklearn.metrics import mean_squared_error, r2_score\n",
        "model = linear_model.LinearRegression(copy_X=True)         #  Using Linear Regression model\n",
        "test_days = 30\n",
        "train = df3.shape[0]-test_days\n",
        "x_train = df3.iloc[0:train]            # Dividng training and tesing data\n",
        "x_train.head() "
      ]
    },
    {
      "cell_type": "code",
      "execution_count": 10,
      "metadata": {
        "colab": {
          "base_uri": "https://localhost:8080/",
          "height": 74
        },
        "id": "dYsu-HZOpUOy",
        "outputId": "18f2adce-a4da-43de-fadf-93f1cbd510dc"
      },
      "outputs": [
        {
          "output_type": "execute_result",
          "data": {
            "text/plain": [
              "LinearRegression()"
            ],
            "text/html": [
              "<style>#sk-container-id-1 {color: black;background-color: white;}#sk-container-id-1 pre{padding: 0;}#sk-container-id-1 div.sk-toggleable {background-color: white;}#sk-container-id-1 label.sk-toggleable__label {cursor: pointer;display: block;width: 100%;margin-bottom: 0;padding: 0.3em;box-sizing: border-box;text-align: center;}#sk-container-id-1 label.sk-toggleable__label-arrow:before {content: \"▸\";float: left;margin-right: 0.25em;color: #696969;}#sk-container-id-1 label.sk-toggleable__label-arrow:hover:before {color: black;}#sk-container-id-1 div.sk-estimator:hover label.sk-toggleable__label-arrow:before {color: black;}#sk-container-id-1 div.sk-toggleable__content {max-height: 0;max-width: 0;overflow: hidden;text-align: left;background-color: #f0f8ff;}#sk-container-id-1 div.sk-toggleable__content pre {margin: 0.2em;color: black;border-radius: 0.25em;background-color: #f0f8ff;}#sk-container-id-1 input.sk-toggleable__control:checked~div.sk-toggleable__content {max-height: 200px;max-width: 100%;overflow: auto;}#sk-container-id-1 input.sk-toggleable__control:checked~label.sk-toggleable__label-arrow:before {content: \"▾\";}#sk-container-id-1 div.sk-estimator input.sk-toggleable__control:checked~label.sk-toggleable__label {background-color: #d4ebff;}#sk-container-id-1 div.sk-label input.sk-toggleable__control:checked~label.sk-toggleable__label {background-color: #d4ebff;}#sk-container-id-1 input.sk-hidden--visually {border: 0;clip: rect(1px 1px 1px 1px);clip: rect(1px, 1px, 1px, 1px);height: 1px;margin: -1px;overflow: hidden;padding: 0;position: absolute;width: 1px;}#sk-container-id-1 div.sk-estimator {font-family: monospace;background-color: #f0f8ff;border: 1px dotted black;border-radius: 0.25em;box-sizing: border-box;margin-bottom: 0.5em;}#sk-container-id-1 div.sk-estimator:hover {background-color: #d4ebff;}#sk-container-id-1 div.sk-parallel-item::after {content: \"\";width: 100%;border-bottom: 1px solid gray;flex-grow: 1;}#sk-container-id-1 div.sk-label:hover label.sk-toggleable__label {background-color: #d4ebff;}#sk-container-id-1 div.sk-serial::before {content: \"\";position: absolute;border-left: 1px solid gray;box-sizing: border-box;top: 0;bottom: 0;left: 50%;z-index: 0;}#sk-container-id-1 div.sk-serial {display: flex;flex-direction: column;align-items: center;background-color: white;padding-right: 0.2em;padding-left: 0.2em;position: relative;}#sk-container-id-1 div.sk-item {position: relative;z-index: 1;}#sk-container-id-1 div.sk-parallel {display: flex;align-items: stretch;justify-content: center;background-color: white;position: relative;}#sk-container-id-1 div.sk-item::before, #sk-container-id-1 div.sk-parallel-item::before {content: \"\";position: absolute;border-left: 1px solid gray;box-sizing: border-box;top: 0;bottom: 0;left: 50%;z-index: -1;}#sk-container-id-1 div.sk-parallel-item {display: flex;flex-direction: column;z-index: 1;position: relative;background-color: white;}#sk-container-id-1 div.sk-parallel-item:first-child::after {align-self: flex-end;width: 50%;}#sk-container-id-1 div.sk-parallel-item:last-child::after {align-self: flex-start;width: 50%;}#sk-container-id-1 div.sk-parallel-item:only-child::after {width: 0;}#sk-container-id-1 div.sk-dashed-wrapped {border: 1px dashed gray;margin: 0 0.4em 0.5em 0.4em;box-sizing: border-box;padding-bottom: 0.4em;background-color: white;}#sk-container-id-1 div.sk-label label {font-family: monospace;font-weight: bold;display: inline-block;line-height: 1.2em;}#sk-container-id-1 div.sk-label-container {text-align: center;}#sk-container-id-1 div.sk-container {/* jupyter's `normalize.less` sets `[hidden] { display: none; }` but bootstrap.min.css set `[hidden] { display: none !important; }` so we also need the `!important` here to be able to override the default hidden behavior on the sphinx rendered scikit-learn.org. See: https://github.com/scikit-learn/scikit-learn/issues/21755 */display: inline-block !important;position: relative;}#sk-container-id-1 div.sk-text-repr-fallback {display: none;}</style><div id=\"sk-container-id-1\" class=\"sk-top-container\"><div class=\"sk-text-repr-fallback\"><pre>LinearRegression()</pre><b>In a Jupyter environment, please rerun this cell to show the HTML representation or trust the notebook. <br />On GitHub, the HTML representation is unable to render, please try loading this page with nbviewer.org.</b></div><div class=\"sk-container\" hidden><div class=\"sk-item\"><div class=\"sk-estimator sk-toggleable\"><input class=\"sk-toggleable__control sk-hidden--visually\" id=\"sk-estimator-id-1\" type=\"checkbox\" checked><label for=\"sk-estimator-id-1\" class=\"sk-toggleable__label sk-toggleable__label-arrow\">LinearRegression</label><div class=\"sk-toggleable__content\"><pre>LinearRegression()</pre></div></div></div></div></div>"
            ]
          },
          "metadata": {},
          "execution_count": 10
        }
      ],
      "source": [
        "y_train = y.iloc[0:train]\n",
        "model.fit(x_train, y_train) # Fitting Linear Model"
      ]
    },
    {
      "cell_type": "code",
      "execution_count": 11,
      "metadata": {
        "colab": {
          "base_uri": "https://localhost:8080/"
        },
        "id": "rGLZCutfpUOz",
        "outputId": "700f3252-5024-4f23-f20d-8002a3b899ee"
      },
      "outputs": [
        {
          "output_type": "execute_result",
          "data": {
            "text/plain": [
              "1.341376661505918"
            ]
          },
          "metadata": {},
          "execution_count": 11
        }
      ],
      "source": [
        "x_test = df3.iloc[train+1:]\n",
        "y_test = pd.Series(model.predict(x_test))     # Predicting the Linear Model\n",
        "y_actual = y.iloc[train+1:]\n",
        "mean_squared_error(y_test,y_actual) #Mean Squared Error of Test Data"
      ]
    },
    {
      "cell_type": "code",
      "execution_count": 12,
      "metadata": {
        "colab": {
          "base_uri": "https://localhost:8080/"
        },
        "id": "appRCr7SpUOz",
        "outputId": "e5b1a0bb-9594-4bc3-8ad1-557ce6bd1aad"
      },
      "outputs": [
        {
          "output_type": "execute_result",
          "data": {
            "text/plain": [
              "[0     79.797682\n",
              " 1     77.571947\n",
              " 2     78.377993\n",
              " 3     77.671904\n",
              " 4     79.111732\n",
              " 5     78.403812\n",
              " 6     79.168017\n",
              " 7     80.130849\n",
              " 8     78.396358\n",
              " 9     75.030421\n",
              " 10    75.606864\n",
              " 11    76.973884\n",
              " 12    77.062181\n",
              " 13    77.522524\n",
              " 14    77.789193\n",
              " 15    78.250280\n",
              " 16    81.030144\n",
              " 17    80.940393\n",
              " 18    80.670892\n",
              " 19    81.374667\n",
              " 20    79.377807\n",
              " 21    79.528937\n",
              " 22    79.714903\n",
              " 23    80.309219\n",
              " 24    79.263082\n",
              " 25    81.016253\n",
              " 26    81.660346\n",
              " 27    81.007988\n",
              " 28    79.429560\n",
              " dtype: float64]"
            ]
          },
          "metadata": {},
          "execution_count": 12
        }
      ],
      "source": [
        "[y_test] # Model Predicted Values"
      ]
    },
    {
      "cell_type": "code",
      "execution_count": 13,
      "metadata": {
        "colab": {
          "base_uri": "https://localhost:8080/"
        },
        "id": "wi4-_K_rpUOz",
        "outputId": "53b881e9-e6e2-4b0f-8e84-a62a6ac60292"
      },
      "outputs": [
        {
          "output_type": "execute_result",
          "data": {
            "text/plain": [
              "0    78.989998\n",
              "1    78.260002\n",
              "2    77.750000\n",
              "3    79.349998\n",
              "4    79.169998\n",
              "Name: close, dtype: float64"
            ]
          },
          "metadata": {},
          "execution_count": 13
        }
      ],
      "source": [
        "y_actual=y_actual.reset_index(drop=True)\n",
        "y_test= y_test.reset_index(drop=True)\n",
        "y_actual.head()"
      ]
    },
    {
      "cell_type": "code",
      "execution_count": 14,
      "metadata": {
        "colab": {
          "base_uri": "https://localhost:8080/"
        },
        "id": "hCGuZBkEpUOz",
        "outputId": "373723df-c026-4f6f-9c9e-d90f8b0538da"
      },
      "outputs": [
        {
          "output_type": "execute_result",
          "data": {
            "text/plain": [
              "0    79.797682\n",
              "1    77.571947\n",
              "2    78.377993\n",
              "3    77.671904\n",
              "4    79.111732\n",
              "dtype: float64"
            ]
          },
          "metadata": {},
          "execution_count": 14
        }
      ],
      "source": [
        "y_test.head() "
      ]
    },
    {
      "cell_type": "code",
      "execution_count": 15,
      "metadata": {
        "colab": {
          "base_uri": "https://localhost:8080/",
          "height": 447
        },
        "id": "-Itno-bOpUOz",
        "outputId": "69e25dcb-cd18-4b07-d600-b1fc4d5a3bdf"
      },
      "outputs": [
        {
          "output_type": "execute_result",
          "data": {
            "text/plain": [
              "[<matplotlib.lines.Line2D at 0x7f5722ad3b50>]"
            ]
          },
          "metadata": {},
          "execution_count": 15
        },
        {
          "output_type": "display_data",
          "data": {
            "text/plain": [
              "<Figure size 640x480 with 1 Axes>"
            ],
            "image/png": "[encoded data removed]"
          },
          "metadata": {}
        }
      ],
      "source": [
        "plt.plot(y_test)          # Comparing test predictions with actual data\n",
        "plt.plot(y_actual)        # Blue - y_test and Orange - y_actual"
      ]
    },
    {
      "cell_type": "code",
      "execution_count": 16,
      "metadata": {
        "colab": {
          "base_uri": "https://localhost:8080/"
        },
        "id": "4Fbtzj-IpUO0",
        "outputId": "91a77bea-1a11-4b8b-d427-67d0d112ca25"
      },
      "outputs": [
        {
          "output_type": "execute_result",
          "data": {
            "text/plain": [
              "0.5170881778107905"
            ]
          },
          "metadata": {},
          "execution_count": 16
        }
      ],
      "source": [
        "r2_score(y_test,y_actual) #r2 score of model"
      ]
    },
    {
      "cell_type": "code",
      "execution_count": 17,
      "metadata": {
        "colab": {
          "base_uri": "https://localhost:8080/"
        },
        "id": "-i2vXH1PpUO0",
        "outputId": "0618977e-aefe-4a48-807d-a9175eb86640"
      },
      "outputs": [
        {
          "output_type": "execute_result",
          "data": {
            "text/plain": [
              "0.549693100320194"
            ]
          },
          "metadata": {},
          "execution_count": 17
        }
      ],
      "source": [
        "y_train_test = pd.Series(model.predict(x_train))\n",
        "mean_squared_error(y_train,y_train_test)          #Mean Squared Error of Training Data\n"
      ]
    },
    {
      "cell_type": "code",
      "execution_count": null,
      "metadata": {
        "colab": {
          "base_uri": "https://localhost:8080/"
        },
        "id": "x-tgwU0jpUO0",
        "outputId": "18ff232e-50b5-471a-a5af-e55f230910ad"
      },
      "outputs": [
        {
          "output_type": "execute_result",
          "data": {
            "text/plain": [
              "0.9986657006710616"
            ]
          },
          "metadata": {},
          "execution_count": 20
        }
      ],
      "source": [
        "r2_score(y_train,y_train_test)                   #r2_score of Training Data"
      ]
    },
    {
      "cell_type": "code",
      "execution_count": 18,
      "metadata": {
        "colab": {
          "base_uri": "https://localhost:8080/",
          "height": 447
        },
        "id": "u2rxzaJepUO0",
        "outputId": "8718f4cc-0bcc-4627-a52e-c856e7cdbb0b"
      },
      "outputs": [
        {
          "output_type": "execute_result",
          "data": {
            "text/plain": [
              "[<matplotlib.lines.Line2D at 0x7f5722a5c8e0>]"
            ]
          },
          "metadata": {},
          "execution_count": 18
        },
        {
          "output_type": "display_data",
          "data": {
            "text/plain": [
              "<Figure size 640x480 with 1 Axes>"
            ],
            "image/png": "[encoded data removed]"
          },
          "metadata": {}
        }
      ],
      "source": [
        "y_train = y_train.reset_index(drop=True)\n",
        "y_train_test = y_train_test.reset_index(drop=True)\n",
        "plt.plot(y_train)\n",
        "plt.plot(y_train_test)            #Visualization of Predictions vs Actual Data"
      ]
    },
    {
      "cell_type": "code",
      "execution_count": null,
      "metadata": {
        "colab": {
          "base_uri": "https://localhost:8080/",
          "height": 300
        },
        "id": "39G9EXl-pUO0",
        "outputId": "b85b9a8c-9bca-4c5f-cf18-148872de6cc1"
      },
      "outputs": [
        {
          "output_type": "execute_result",
          "data": {
            "text/plain": [
              "        open      close        low       high     volume       open  \\\n",
              "0  18.309999  18.660000  18.230000  18.870001  6632500.0  18.610001   \n",
              "1  18.610001  18.180000  18.059999  18.650000  5047300.0  17.910000   \n",
              "2  17.910000  18.040001  17.780001  18.070000  5433200.0  18.180000   \n",
              "3  18.180000  18.400000  18.030001  18.450001  4055600.0  18.469999   \n",
              "4  18.469999  18.270000  18.129999  18.700001  6142400.0  16.740000   \n",
              "\n",
              "       close        low       high      volume  ...        open     close  \\\n",
              "0  18.180000  18.059999  18.650000   5047300.0  ...  286.286400  298.2529   \n",
              "1  18.040001  17.780001  18.070000   5433200.0  ...  295.152400  288.3204   \n",
              "2  18.400000  18.030001  18.450001   4055600.0  ...  283.922500  297.9076   \n",
              "3  18.270000  18.129999  18.700001   6142400.0  ...  302.064365  305.9001   \n",
              "4  16.850000  16.559999  17.139999  31920900.0  ...  257.281632  254.7216   \n",
              "\n",
              "          low        high        volume        open     close       low  \\\n",
              "0  281.904134  299.982400  4.118046e+13  295.152400  288.3204  282.9124   \n",
              "1  282.912400  295.152400  5.176227e+13  283.922500  297.9076  283.2489   \n",
              "2  283.248900  300.328900  1.056476e+14  302.064365  305.9001  289.3401   \n",
              "3  289.340100  318.979636  2.614915e+14  257.281632  254.7216  246.4900   \n",
              "4  246.490000  265.038433  2.246580e+15  257.281632  254.0836  248.0625   \n",
              "\n",
              "         high        volume  \n",
              "0  295.152400  5.176227e+13  \n",
              "1  300.328900  1.056476e+14  \n",
              "2  318.979636  2.614915e+14  \n",
              "3  265.038433  2.246580e+15  \n",
              "4  259.854432  1.870193e+14  \n",
              "\n",
              "[5 rows x 220 columns]"
            ],
            "text/html": [
              "\n",
              "  <div id=\"df-69a0a927-67c7-40c8-9b48-36bc6004a69d\">\n",
              "    <div class=\"colab-df-container\">\n",
              "      <div>\n",
              "<style scoped>\n",
              "    .dataframe tbody tr th:only-of-type {\n",
              "        vertical-align: middle;\n",
              "    }\n",
              "\n",
              "    .dataframe tbody tr th {\n",
              "        vertical-align: top;\n",
              "    }\n",
              "\n",
              "    .dataframe thead th {\n",
              "        text-align: right;\n",
              "    }\n",
              "</style>\n",
              "<table border=\"1\" class=\"dataframe\">\n",
              "  <thead>\n",
              "    <tr style=\"text-align: right;\">\n",
              "      <th></th>\n",
              "      <th>open</th>\n",
              "      <th>close</th>\n",
              "      <th>low</th>\n",
              "      <th>high</th>\n",
              "      <th>volume</th>\n",
              "      <th>open</th>\n",
              "      <th>close</th>\n",
              "      <th>low</th>\n",
              "      <th>high</th>\n",
              "      <th>volume</th>\n",
              "      <th>...</th>\n",
              "      <th>open</th>\n",
              "      <th>close</th>\n",
              "      <th>low</th>\n",
              "      <th>high</th>\n",
              "      <th>volume</th>\n",
              "      <th>open</th>\n",
              "      <th>close</th>\n",
              "      <th>low</th>\n",
              "      <th>high</th>\n",
              "      <th>volume</th>\n",
              "    </tr>\n",
              "  </thead>\n",
              "  <tbody>\n",
              "    <tr>\n",
              "      <th>0</th>\n",
              "      <td>18.309999</td>\n",
              "      <td>18.660000</td>\n",
              "      <td>18.230000</td>\n",
              "      <td>18.870001</td>\n",
              "      <td>6632500.0</td>\n",
              "      <td>18.610001</td>\n",
              "      <td>18.180000</td>\n",
              "      <td>18.059999</td>\n",
              "      <td>18.650000</td>\n",
              "      <td>5047300.0</td>\n",
              "      <td>...</td>\n",
              "      <td>286.286400</td>\n",
              "      <td>298.2529</td>\n",
              "      <td>281.904134</td>\n",
              "      <td>299.982400</td>\n",
              "      <td>4.118046e+13</td>\n",
              "      <td>295.152400</td>\n",
              "      <td>288.3204</td>\n",
              "      <td>282.9124</td>\n",
              "      <td>295.152400</td>\n",
              "      <td>5.176227e+13</td>\n",
              "    </tr>\n",
              "    <tr>\n",
              "      <th>1</th>\n",
              "      <td>18.610001</td>\n",
              "      <td>18.180000</td>\n",
              "      <td>18.059999</td>\n",
              "      <td>18.650000</td>\n",
              "      <td>5047300.0</td>\n",
              "      <td>17.910000</td>\n",
              "      <td>18.040001</td>\n",
              "      <td>17.780001</td>\n",
              "      <td>18.070000</td>\n",
              "      <td>5433200.0</td>\n",
              "      <td>...</td>\n",
              "      <td>295.152400</td>\n",
              "      <td>288.3204</td>\n",
              "      <td>282.912400</td>\n",
              "      <td>295.152400</td>\n",
              "      <td>5.176227e+13</td>\n",
              "      <td>283.922500</td>\n",
              "      <td>297.9076</td>\n",
              "      <td>283.2489</td>\n",
              "      <td>300.328900</td>\n",
              "      <td>1.056476e+14</td>\n",
              "    </tr>\n",
              "    <tr>\n",
              "      <th>2</th>\n",
              "      <td>17.910000</td>\n",
              "      <td>18.040001</td>\n",
              "      <td>17.780001</td>\n",
              "      <td>18.070000</td>\n",
              "      <td>5433200.0</td>\n",
              "      <td>18.180000</td>\n",
              "      <td>18.400000</td>\n",
              "      <td>18.030001</td>\n",
              "      <td>18.450001</td>\n",
              "      <td>4055600.0</td>\n",
              "      <td>...</td>\n",
              "      <td>283.922500</td>\n",
              "      <td>297.9076</td>\n",
              "      <td>283.248900</td>\n",
              "      <td>300.328900</td>\n",
              "      <td>1.056476e+14</td>\n",
              "      <td>302.064365</td>\n",
              "      <td>305.9001</td>\n",
              "      <td>289.3401</td>\n",
              "      <td>318.979636</td>\n",
              "      <td>2.614915e+14</td>\n",
              "    </tr>\n",
              "    <tr>\n",
              "      <th>3</th>\n",
              "      <td>18.180000</td>\n",
              "      <td>18.400000</td>\n",
              "      <td>18.030001</td>\n",
              "      <td>18.450001</td>\n",
              "      <td>4055600.0</td>\n",
              "      <td>18.469999</td>\n",
              "      <td>18.270000</td>\n",
              "      <td>18.129999</td>\n",
              "      <td>18.700001</td>\n",
              "      <td>6142400.0</td>\n",
              "      <td>...</td>\n",
              "      <td>302.064365</td>\n",
              "      <td>305.9001</td>\n",
              "      <td>289.340100</td>\n",
              "      <td>318.979636</td>\n",
              "      <td>2.614915e+14</td>\n",
              "      <td>257.281632</td>\n",
              "      <td>254.7216</td>\n",
              "      <td>246.4900</td>\n",
              "      <td>265.038433</td>\n",
              "      <td>2.246580e+15</td>\n",
              "    </tr>\n",
              "    <tr>\n",
              "      <th>4</th>\n",
              "      <td>18.469999</td>\n",
              "      <td>18.270000</td>\n",
              "      <td>18.129999</td>\n",
              "      <td>18.700001</td>\n",
              "      <td>6142400.0</td>\n",
              "      <td>16.740000</td>\n",
              "      <td>16.850000</td>\n",
              "      <td>16.559999</td>\n",
              "      <td>17.139999</td>\n",
              "      <td>31920900.0</td>\n",
              "      <td>...</td>\n",
              "      <td>257.281632</td>\n",
              "      <td>254.7216</td>\n",
              "      <td>246.490000</td>\n",
              "      <td>265.038433</td>\n",
              "      <td>2.246580e+15</td>\n",
              "      <td>257.281632</td>\n",
              "      <td>254.0836</td>\n",
              "      <td>248.0625</td>\n",
              "      <td>259.854432</td>\n",
              "      <td>1.870193e+14</td>\n",
              "    </tr>\n",
              "  </tbody>\n",
              "</table>\n",
              "<p>5 rows × 220 columns</p>\n",
              "</div>\n",
              "      <button class=\"colab-df-convert\" onclick=\"convertToInteractive('df-69a0a927-67c7-40c8-9b48-36bc6004a69d')\"\n",
              "              title=\"Convert this dataframe to an interactive table.\"\n",
              "              style=\"display:none;\">\n",
              "        \n",
              "  <svg xmlns=\"http://www.w3.org/2000/svg\" height=\"24px\"viewBox=\"0 0 24 24\"\n",
              "       width=\"24px\">\n",
              "    <path d=\"M0 0h24v24H0V0z\" fill=\"none\"/>\n",
              "    <path d=\"M18.56 5.44l.94 2.06.94-2.06 2.06-.94-2.06-.94-.94-2.06-.94 2.06-2.06.94zm-11 1L8.5 8.5l.94-2.06 2.06-.94-2.06-.94L8.5 2.5l-.94 2.06-2.06.94zm10 10l.94 2.06.94-2.06 2.06-.94-2.06-.94-.94-2.06-.94 2.06-2.06.94z\"/><path d=\"M17.41 7.96l-1.37-1.37c-.4-.4-.92-.59-1.43-.59-.52 0-1.04.2-1.43.59L10.3 9.45l-7.72 7.72c-.78.78-.78 2.05 0 2.83L4 21.41c.39.39.9.59 1.41.59.51 0 1.02-.2 1.41-.59l7.78-7.78 2.81-2.81c.8-.78.8-2.07 0-2.86zM5.41 20L4 18.59l7.72-7.72 1.47 1.35L5.41 20z\"/>\n",
              "  </svg>\n",
              "      </button>\n",
              "      \n",
              "  <style>\n",
              "    .colab-df-container {\n",
              "      display:flex;\n",
              "      flex-wrap:wrap;\n",
              "      gap: 12px;\n",
              "    }\n",
              "\n",
              "    .colab-df-convert {\n",
              "      background-color: #E8F0FE;\n",
              "      border: none;\n",
              "      border-radius: 50%;\n",
              "      cursor: pointer;\n",
              "      display: none;\n",
              "      fill: #1967D2;\n",
              "      height: 32px;\n",
              "      padding: 0 0 0 0;\n",
              "      width: 32px;\n",
              "    }\n",
              "\n",
              "    .colab-df-convert:hover {\n",
              "      background-color: #E2EBFA;\n",
              "      box-shadow: 0px 1px 2px rgba(60, 64, 67, 0.3), 0px 1px 3px 1px rgba(60, 64, 67, 0.15);\n",
              "      fill: #174EA6;\n",
              "    }\n",
              "\n",
              "    [theme=dark] .colab-df-convert {\n",
              "      background-color: #3B4455;\n",
              "      fill: #D2E3FC;\n",
              "    }\n",
              "\n",
              "    [theme=dark] .colab-df-convert:hover {\n",
              "      background-color: #434B5C;\n",
              "      box-shadow: 0px 1px 3px 1px rgba(0, 0, 0, 0.15);\n",
              "      filter: drop-shadow(0px 1px 2px rgba(0, 0, 0, 0.3));\n",
              "      fill: #FFFFFF;\n",
              "    }\n",
              "  </style>\n",
              "\n",
              "      <script>\n",
              "        const buttonEl =\n",
              "          document.querySelector('#df-69a0a927-67c7-40c8-9b48-36bc6004a69d button.colab-df-convert');\n",
              "        buttonEl.style.display =\n",
              "          google.colab.kernel.accessAllowed ? 'block' : 'none';\n",
              "\n",
              "        async function convertToInteractive(key) {\n",
              "          const element = document.querySelector('#df-69a0a927-67c7-40c8-9b48-36bc6004a69d');\n",
              "          const dataTable =\n",
              "            await google.colab.kernel.invokeFunction('convertToInteractive',\n",
              "                                                     [key], {});\n",
              "          if (!dataTable) return;\n",
              "\n",
              "          const docLinkHtml = 'Like what you see? Visit the ' +\n",
              "            '<a target=\"_blank\" href=https://colab.research.google.com/notebooks/data_table.ipynb>data table notebook</a>'\n",
              "            + ' to learn more about interactive tables.';\n",
              "          element.innerHTML = '';\n",
              "          dataTable['output_type'] = 'display_data';\n",
              "          await google.colab.output.renderOutput(dataTable, element);\n",
              "          const docLink = document.createElement('div');\n",
              "          docLink.innerHTML = docLinkHtml;\n",
              "          element.appendChild(docLink);\n",
              "        }\n",
              "      </script>\n",
              "    </div>\n",
              "  </div>\n",
              "  "
            ]
          },
          "metadata": {},
          "execution_count": 22
        }
      ],
      "source": [
        "x_train_squared = x_train**2           # Making the training features squared for Ploynomial Regression \n",
        "x_poly_train = pd.concat([x_train, x_train_squared], axis=1)\n",
        "x_poly_train = x_poly_train.reset_index(drop=True)\n",
        "x_poly_train.head() # Features for polynomial regression model"
      ]
    },
    {
      "cell_type": "code",
      "execution_count": null,
      "metadata": {
        "colab": {
          "base_uri": "https://localhost:8080/",
          "height": 300
        },
        "id": "t2xxYb1QpUO0",
        "outputId": "ed6fee6c-78b2-4afb-b9b3-268e4aea6101"
      },
      "outputs": [
        {
          "output_type": "execute_result",
          "data": {
            "text/plain": [
              "        open      close        low       high     volume       open  \\\n",
              "0  74.730003  75.199997  74.660004  76.089996  4189100.0  75.070000   \n",
              "1  75.070000  76.620003  74.809998  77.150002  4329200.0  75.720001   \n",
              "2  75.720001  75.139999  74.529999  76.599998  5105100.0  74.699997   \n",
              "3  74.699997  74.489998  73.260002  74.870003  4432500.0  74.220001   \n",
              "4  74.220001  73.500000  72.940002  74.220001  3236700.0  73.480003   \n",
              "\n",
              "       close        low       high     volume  ...         open        close  \\\n",
              "0  76.620003  74.809998  77.150002  4329200.0  ...  5608.511950  5511.577303   \n",
              "1  75.139999  74.529999  76.599998  5105100.0  ...  5496.739452  5553.229953   \n",
              "2  74.489998  73.260002  74.870003  4432500.0  ...  5559.193302  5533.871951   \n",
              "3  73.500000  72.940002  74.220001  3236700.0  ...  5474.519804  5625.000000   \n",
              "4  73.110001  72.930000  74.010002  3772500.0  ...  5649.026201  5553.229953   \n",
              "\n",
              "           low         high        volume         open        close  \\\n",
              "0  5446.440443  5689.684900  1.354461e+13  5496.739452  5553.229953   \n",
              "1  5380.222207  5592.048250  4.068289e+12  5559.193302  5533.871951   \n",
              "2  5481.921748  5659.553351  5.807618e+12  5474.519804  5625.000000   \n",
              "3  5412.544900  5637.006700  8.230013e+12  5649.026201  5553.229953   \n",
              "4  5414.016694  5649.026201  1.781346e+13  5578.596399  5671.595799   \n",
              "\n",
              "           low         high        volume  \n",
              "0  5380.222207  5592.048250  4.068289e+12  \n",
              "1  5481.921748  5659.553351  5.807618e+12  \n",
              "2  5412.544900  5637.006700  8.230013e+12  \n",
              "3  5414.016694  5649.026201  1.781346e+13  \n",
              "4  5493.774845  5827.794989  8.688346e+12  \n",
              "\n",
              "[5 rows x 220 columns]"
            ],
            "text/html": [
              "\n",
              "  <div id=\"df-4f6cc237-e733-4c67-a35c-ec2869d2c13a\">\n",
              "    <div class=\"colab-df-container\">\n",
              "      <div>\n",
              "<style scoped>\n",
              "    .dataframe tbody tr th:only-of-type {\n",
              "        vertical-align: middle;\n",
              "    }\n",
              "\n",
              "    .dataframe tbody tr th {\n",
              "        vertical-align: top;\n",
              "    }\n",
              "\n",
              "    .dataframe thead th {\n",
              "        text-align: right;\n",
              "    }\n",
              "</style>\n",
              "<table border=\"1\" class=\"dataframe\">\n",
              "  <thead>\n",
              "    <tr style=\"text-align: right;\">\n",
              "      <th></th>\n",
              "      <th>open</th>\n",
              "      <th>close</th>\n",
              "      <th>low</th>\n",
              "      <th>high</th>\n",
              "      <th>volume</th>\n",
              "      <th>open</th>\n",
              "      <th>close</th>\n",
              "      <th>low</th>\n",
              "      <th>high</th>\n",
              "      <th>volume</th>\n",
              "      <th>...</th>\n",
              "      <th>open</th>\n",
              "      <th>close</th>\n",
              "      <th>low</th>\n",
              "      <th>high</th>\n",
              "      <th>volume</th>\n",
              "      <th>open</th>\n",
              "      <th>close</th>\n",
              "      <th>low</th>\n",
              "      <th>high</th>\n",
              "      <th>volume</th>\n",
              "    </tr>\n",
              "  </thead>\n",
              "  <tbody>\n",
              "    <tr>\n",
              "      <th>0</th>\n",
              "      <td>74.730003</td>\n",
              "      <td>75.199997</td>\n",
              "      <td>74.660004</td>\n",
              "      <td>76.089996</td>\n",
              "      <td>4189100.0</td>\n",
              "      <td>75.070000</td>\n",
              "      <td>76.620003</td>\n",
              "      <td>74.809998</td>\n",
              "      <td>77.150002</td>\n",
              "      <td>4329200.0</td>\n",
              "      <td>...</td>\n",
              "      <td>5608.511950</td>\n",
              "      <td>5511.577303</td>\n",
              "      <td>5446.440443</td>\n",
              "      <td>5689.684900</td>\n",
              "      <td>1.354461e+13</td>\n",
              "      <td>5496.739452</td>\n",
              "      <td>5553.229953</td>\n",
              "      <td>5380.222207</td>\n",
              "      <td>5592.048250</td>\n",
              "      <td>4.068289e+12</td>\n",
              "    </tr>\n",
              "    <tr>\n",
              "      <th>1</th>\n",
              "      <td>75.070000</td>\n",
              "      <td>76.620003</td>\n",
              "      <td>74.809998</td>\n",
              "      <td>77.150002</td>\n",
              "      <td>4329200.0</td>\n",
              "      <td>75.720001</td>\n",
              "      <td>75.139999</td>\n",
              "      <td>74.529999</td>\n",
              "      <td>76.599998</td>\n",
              "      <td>5105100.0</td>\n",
              "      <td>...</td>\n",
              "      <td>5496.739452</td>\n",
              "      <td>5553.229953</td>\n",
              "      <td>5380.222207</td>\n",
              "      <td>5592.048250</td>\n",
              "      <td>4.068289e+12</td>\n",
              "      <td>5559.193302</td>\n",
              "      <td>5533.871951</td>\n",
              "      <td>5481.921748</td>\n",
              "      <td>5659.553351</td>\n",
              "      <td>5.807618e+12</td>\n",
              "    </tr>\n",
              "    <tr>\n",
              "      <th>2</th>\n",
              "      <td>75.720001</td>\n",
              "      <td>75.139999</td>\n",
              "      <td>74.529999</td>\n",
              "      <td>76.599998</td>\n",
              "      <td>5105100.0</td>\n",
              "      <td>74.699997</td>\n",
              "      <td>74.489998</td>\n",
              "      <td>73.260002</td>\n",
              "      <td>74.870003</td>\n",
              "      <td>4432500.0</td>\n",
              "      <td>...</td>\n",
              "      <td>5559.193302</td>\n",
              "      <td>5533.871951</td>\n",
              "      <td>5481.921748</td>\n",
              "      <td>5659.553351</td>\n",
              "      <td>5.807618e+12</td>\n",
              "      <td>5474.519804</td>\n",
              "      <td>5625.000000</td>\n",
              "      <td>5412.544900</td>\n",
              "      <td>5637.006700</td>\n",
              "      <td>8.230013e+12</td>\n",
              "    </tr>\n",
              "    <tr>\n",
              "      <th>3</th>\n",
              "      <td>74.699997</td>\n",
              "      <td>74.489998</td>\n",
              "      <td>73.260002</td>\n",
              "      <td>74.870003</td>\n",
              "      <td>4432500.0</td>\n",
              "      <td>74.220001</td>\n",
              "      <td>73.500000</td>\n",
              "      <td>72.940002</td>\n",
              "      <td>74.220001</td>\n",
              "      <td>3236700.0</td>\n",
              "      <td>...</td>\n",
              "      <td>5474.519804</td>\n",
              "      <td>5625.000000</td>\n",
              "      <td>5412.544900</td>\n",
              "      <td>5637.006700</td>\n",
              "      <td>8.230013e+12</td>\n",
              "      <td>5649.026201</td>\n",
              "      <td>5553.229953</td>\n",
              "      <td>5414.016694</td>\n",
              "      <td>5649.026201</td>\n",
              "      <td>1.781346e+13</td>\n",
              "    </tr>\n",
              "    <tr>\n",
              "      <th>4</th>\n",
              "      <td>74.220001</td>\n",
              "      <td>73.500000</td>\n",
              "      <td>72.940002</td>\n",
              "      <td>74.220001</td>\n",
              "      <td>3236700.0</td>\n",
              "      <td>73.480003</td>\n",
              "      <td>73.110001</td>\n",
              "      <td>72.930000</td>\n",
              "      <td>74.010002</td>\n",
              "      <td>3772500.0</td>\n",
              "      <td>...</td>\n",
              "      <td>5649.026201</td>\n",
              "      <td>5553.229953</td>\n",
              "      <td>5414.016694</td>\n",
              "      <td>5649.026201</td>\n",
              "      <td>1.781346e+13</td>\n",
              "      <td>5578.596399</td>\n",
              "      <td>5671.595799</td>\n",
              "      <td>5493.774845</td>\n",
              "      <td>5827.794989</td>\n",
              "      <td>8.688346e+12</td>\n",
              "    </tr>\n",
              "  </tbody>\n",
              "</table>\n",
              "<p>5 rows × 220 columns</p>\n",
              "</div>\n",
              "      <button class=\"colab-df-convert\" onclick=\"convertToInteractive('df-4f6cc237-e733-4c67-a35c-ec2869d2c13a')\"\n",
              "              title=\"Convert this dataframe to an interactive table.\"\n",
              "              style=\"display:none;\">\n",
              "        \n",
              "  <svg xmlns=\"http://www.w3.org/2000/svg\" height=\"24px\"viewBox=\"0 0 24 24\"\n",
              "       width=\"24px\">\n",
              "    <path d=\"M0 0h24v24H0V0z\" fill=\"none\"/>\n",
              "    <path d=\"M18.56 5.44l.94 2.06.94-2.06 2.06-.94-2.06-.94-.94-2.06-.94 2.06-2.06.94zm-11 1L8.5 8.5l.94-2.06 2.06-.94-2.06-.94L8.5 2.5l-.94 2.06-2.06.94zm10 10l.94 2.06.94-2.06 2.06-.94-2.06-.94-.94-2.06-.94 2.06-2.06.94z\"/><path d=\"M17.41 7.96l-1.37-1.37c-.4-.4-.92-.59-1.43-.59-.52 0-1.04.2-1.43.59L10.3 9.45l-7.72 7.72c-.78.78-.78 2.05 0 2.83L4 21.41c.39.39.9.59 1.41.59.51 0 1.02-.2 1.41-.59l7.78-7.78 2.81-2.81c.8-.78.8-2.07 0-2.86zM5.41 20L4 18.59l7.72-7.72 1.47 1.35L5.41 20z\"/>\n",
              "  </svg>\n",
              "      </button>\n",
              "      \n",
              "  <style>\n",
              "    .colab-df-container {\n",
              "      display:flex;\n",
              "      flex-wrap:wrap;\n",
              "      gap: 12px;\n",
              "    }\n",
              "\n",
              "    .colab-df-convert {\n",
              "      background-color: #E8F0FE;\n",
              "      border: none;\n",
              "      border-radius: 50%;\n",
              "      cursor: pointer;\n",
              "      display: none;\n",
              "      fill: #1967D2;\n",
              "      height: 32px;\n",
              "      padding: 0 0 0 0;\n",
              "      width: 32px;\n",
              "    }\n",
              "\n",
              "    .colab-df-convert:hover {\n",
              "      background-color: #E2EBFA;\n",
              "      box-shadow: 0px 1px 2px rgba(60, 64, 67, 0.3), 0px 1px 3px 1px rgba(60, 64, 67, 0.15);\n",
              "      fill: #174EA6;\n",
              "    }\n",
              "\n",
              "    [theme=dark] .colab-df-convert {\n",
              "      background-color: #3B4455;\n",
              "      fill: #D2E3FC;\n",
              "    }\n",
              "\n",
              "    [theme=dark] .colab-df-convert:hover {\n",
              "      background-color: #434B5C;\n",
              "      box-shadow: 0px 1px 3px 1px rgba(0, 0, 0, 0.15);\n",
              "      filter: drop-shadow(0px 1px 2px rgba(0, 0, 0, 0.3));\n",
              "      fill: #FFFFFF;\n",
              "    }\n",
              "  </style>\n",
              "\n",
              "      <script>\n",
              "        const buttonEl =\n",
              "          document.querySelector('#df-4f6cc237-e733-4c67-a35c-ec2869d2c13a button.colab-df-convert');\n",
              "        buttonEl.style.display =\n",
              "          google.colab.kernel.accessAllowed ? 'block' : 'none';\n",
              "\n",
              "        async function convertToInteractive(key) {\n",
              "          const element = document.querySelector('#df-4f6cc237-e733-4c67-a35c-ec2869d2c13a');\n",
              "          const dataTable =\n",
              "            await google.colab.kernel.invokeFunction('convertToInteractive',\n",
              "                                                     [key], {});\n",
              "          if (!dataTable) return;\n",
              "\n",
              "          const docLinkHtml = 'Like what you see? Visit the ' +\n",
              "            '<a target=\"_blank\" href=https://colab.research.google.com/notebooks/data_table.ipynb>data table notebook</a>'\n",
              "            + ' to learn more about interactive tables.';\n",
              "          element.innerHTML = '';\n",
              "          dataTable['output_type'] = 'display_data';\n",
              "          await google.colab.output.renderOutput(dataTable, element);\n",
              "          const docLink = document.createElement('div');\n",
              "          docLink.innerHTML = docLinkHtml;\n",
              "          element.appendChild(docLink);\n",
              "        }\n",
              "      </script>\n",
              "    </div>\n",
              "  </div>\n",
              "  "
            ]
          },
          "metadata": {},
          "execution_count": 23
        }
      ],
      "source": [
        "x_test_squared = x_test**2          # Making the test features squared for Ploynomial Regression\n",
        "x_poly_test = pd.concat([x_test, x_test_squared], axis=1)\n",
        "x_poly_test = x_poly_test.reset_index(drop=True)\n",
        "x_poly_test.head() "
      ]
    },
    {
      "cell_type": "code",
      "execution_count": null,
      "metadata": {
        "colab": {
          "base_uri": "https://localhost:8080/",
          "height": 75
        },
        "id": "LurU0JUypUO0",
        "outputId": "de0421d9-1182-4552-d018-6a8de575d15a"
      },
      "outputs": [
        {
          "output_type": "execute_result",
          "data": {
            "text/plain": [
              "LinearRegression()"
            ],
            "text/html": [
              "<style>#sk-container-id-2 {color: black;background-color: white;}#sk-container-id-2 pre{padding: 0;}#sk-container-id-2 div.sk-toggleable {background-color: white;}#sk-container-id-2 label.sk-toggleable__label {cursor: pointer;display: block;width: 100%;margin-bottom: 0;padding: 0.3em;box-sizing: border-box;text-align: center;}#sk-container-id-2 label.sk-toggleable__label-arrow:before {content: \"▸\";float: left;margin-right: 0.25em;color: #696969;}#sk-container-id-2 label.sk-toggleable__label-arrow:hover:before {color: black;}#sk-container-id-2 div.sk-estimator:hover label.sk-toggleable__label-arrow:before {color: black;}#sk-container-id-2 div.sk-toggleable__content {max-height: 0;max-width: 0;overflow: hidden;text-align: left;background-color: #f0f8ff;}#sk-container-id-2 div.sk-toggleable__content pre {margin: 0.2em;color: black;border-radius: 0.25em;background-color: #f0f8ff;}#sk-container-id-2 input.sk-toggleable__control:checked~div.sk-toggleable__content {max-height: 200px;max-width: 100%;overflow: auto;}#sk-container-id-2 input.sk-toggleable__control:checked~label.sk-toggleable__label-arrow:before {content: \"▾\";}#sk-container-id-2 div.sk-estimator input.sk-toggleable__control:checked~label.sk-toggleable__label {background-color: #d4ebff;}#sk-container-id-2 div.sk-label input.sk-toggleable__control:checked~label.sk-toggleable__label {background-color: #d4ebff;}#sk-container-id-2 input.sk-hidden--visually {border: 0;clip: rect(1px 1px 1px 1px);clip: rect(1px, 1px, 1px, 1px);height: 1px;margin: -1px;overflow: hidden;padding: 0;position: absolute;width: 1px;}#sk-container-id-2 div.sk-estimator {font-family: monospace;background-color: #f0f8ff;border: 1px dotted black;border-radius: 0.25em;box-sizing: border-box;margin-bottom: 0.5em;}#sk-container-id-2 div.sk-estimator:hover {background-color: #d4ebff;}#sk-container-id-2 div.sk-parallel-item::after {content: \"\";width: 100%;border-bottom: 1px solid gray;flex-grow: 1;}#sk-container-id-2 div.sk-label:hover label.sk-toggleable__label {background-color: #d4ebff;}#sk-container-id-2 div.sk-serial::before {content: \"\";position: absolute;border-left: 1px solid gray;box-sizing: border-box;top: 0;bottom: 0;left: 50%;z-index: 0;}#sk-container-id-2 div.sk-serial {display: flex;flex-direction: column;align-items: center;background-color: white;padding-right: 0.2em;padding-left: 0.2em;position: relative;}#sk-container-id-2 div.sk-item {position: relative;z-index: 1;}#sk-container-id-2 div.sk-parallel {display: flex;align-items: stretch;justify-content: center;background-color: white;position: relative;}#sk-container-id-2 div.sk-item::before, #sk-container-id-2 div.sk-parallel-item::before {content: \"\";position: absolute;border-left: 1px solid gray;box-sizing: border-box;top: 0;bottom: 0;left: 50%;z-index: -1;}#sk-container-id-2 div.sk-parallel-item {display: flex;flex-direction: column;z-index: 1;position: relative;background-color: white;}#sk-container-id-2 div.sk-parallel-item:first-child::after {align-self: flex-end;width: 50%;}#sk-container-id-2 div.sk-parallel-item:last-child::after {align-self: flex-start;width: 50%;}#sk-container-id-2 div.sk-parallel-item:only-child::after {width: 0;}#sk-container-id-2 div.sk-dashed-wrapped {border: 1px dashed gray;margin: 0 0.4em 0.5em 0.4em;box-sizing: border-box;padding-bottom: 0.4em;background-color: white;}#sk-container-id-2 div.sk-label label {font-family: monospace;font-weight: bold;display: inline-block;line-height: 1.2em;}#sk-container-id-2 div.sk-label-container {text-align: center;}#sk-container-id-2 div.sk-container {/* jupyter's `normalize.less` sets `[hidden] { display: none; }` but bootstrap.min.css set `[hidden] { display: none !important; }` so we also need the `!important` here to be able to override the default hidden behavior on the sphinx rendered scikit-learn.org. See: https://github.com/scikit-learn/scikit-learn/issues/21755 */display: inline-block !important;position: relative;}#sk-container-id-2 div.sk-text-repr-fallback {display: none;}</style><div id=\"sk-container-id-2\" class=\"sk-top-container\"><div class=\"sk-text-repr-fallback\"><pre>LinearRegression()</pre><b>In a Jupyter environment, please rerun this cell to show the HTML representation or trust the notebook. <br />On GitHub, the HTML representation is unable to render, please try loading this page with nbviewer.org.</b></div><div class=\"sk-container\" hidden><div class=\"sk-item\"><div class=\"sk-estimator sk-toggleable\"><input class=\"sk-toggleable__control sk-hidden--visually\" id=\"sk-estimator-id-2\" type=\"checkbox\" checked><label for=\"sk-estimator-id-2\" class=\"sk-toggleable__label sk-toggleable__label-arrow\">LinearRegression</label><div class=\"sk-toggleable__content\"><pre>LinearRegression()</pre></div></div></div></div></div>"
            ]
          },
          "metadata": {},
          "execution_count": 25
        }
      ],
      "source": [
        "poly_model = linear_model.LinearRegression(copy_X=True)  \n",
        "poly_model.fit(x_poly_train, y_train)                # Fitting a Polynomial Regression Model with Squared Features"
      ]
    },
    {
      "cell_type": "code",
      "execution_count": null,
      "metadata": {
        "colab": {
          "base_uri": "https://localhost:8080/"
        },
        "id": "GFaRSOiIpUO1",
        "outputId": "ce4a79b1-307d-4a29-e4ba-f9c5e8547a4b"
      },
      "outputs": [
        {
          "output_type": "execute_result",
          "data": {
            "text/plain": [
              "1.2403784949949073"
            ]
          },
          "metadata": {},
          "execution_count": 26
        }
      ],
      "source": [
        "y_poly_predict = pd.Series(poly_model.predict(x_poly_test))\n",
        "mean_squared_error(y_poly_predict,y_actual) #Mean Squared Error of Polynomial Regression Model"
      ]
    },
    {
      "cell_type": "code",
      "execution_count": null,
      "metadata": {
        "colab": {
          "base_uri": "https://localhost:8080/",
          "height": 448
        },
        "id": "Q8PFEe48pUO1",
        "outputId": "3631659c-fb73-42e4-aa63-0bd75c2bafba"
      },
      "outputs": [
        {
          "output_type": "execute_result",
          "data": {
            "text/plain": [
              "[<matplotlib.lines.Line2D at 0x7f98292e0160>]"
            ]
          },
          "metadata": {},
          "execution_count": 27
        },
        {
          "output_type": "display_data",
          "data": {
            "text/plain": [
              "<Figure size 640x480 with 1 Axes>"
            ],
            "image/png": "[encoded data removed]"
          },
          "metadata": {}
        }
      ],
      "source": [
        "plt.plot(y_poly_predict)      #Comparing test predictions with actual data \n",
        "plt.plot(y_actual)            # Blue - y_test and Orange - y_actual"
      ]
    },
    {
      "cell_type": "code",
      "execution_count": null,
      "metadata": {
        "colab": {
          "base_uri": "https://localhost:8080/",
          "height": 450
        },
        "id": "wT5EkQtkpUO1",
        "outputId": "e16936ad-aaf9-4783-ab95-a6ee67dd6a44"
      },
      "outputs": [
        {
          "output_type": "execute_result",
          "data": {
            "text/plain": [
              "[<matplotlib.lines.Line2D at 0x7f9829253e50>]"
            ]
          },
          "metadata": {},
          "execution_count": 28
        },
        {
          "output_type": "display_data",
          "data": {
            "text/plain": [
              "<Figure size 640x480 with 1 Axes>"
            ],
            "image/png": "[encoded data removed]"
          },
          "metadata": {}
        }
      ],
      "source": [
        "y_poly_train_predict = poly_model.predict(x_poly_train)\n",
        "plt.plot(y_train)\n",
        "plt.plot(y_poly_train_predict) # Overfitting visualization"
      ]
    }
  ],
  "metadata": {
    "kernelspec": {
      "display_name": "Python 3 (ipykernel)",
      "language": "python",
      "name": "python3"
    },
    "language_info": {
      "codemirror_mode": {
        "name": "ipython",
        "version": 3
      },
      "file_extension": ".py",
      "mimetype": "text/x-python",
      "name": "python",
      "nbconvert_exporter": "python",
      "pygments_lexer": "ipython3",
      "version": "3.9.12"
    },
    "colab": {
      "provenance": []
    }
  },
  "nbformat": 4,
  "nbformat_minor": 0
}